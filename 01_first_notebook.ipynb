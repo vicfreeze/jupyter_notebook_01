{
 "cells": [
  {
   "cell_type": "markdown",
   "id": "3b43ce0a",
   "metadata": {},
   "source": [
    "Introduction\n",
    "This is my *first* Jupyter notebook"
   ]
  },
  {
   "cell_type": "code",
   "execution_count": null,
   "id": "fd2a93c0",
   "metadata": {},
   "outputs": [],
   "source": [
    "x=5\n",
    "y=6\n",
    "z=x+y\n",
    "print(z)"
   ]
  }
 ],
 "metadata": {
  "kernelspec": {
   "display_name": "Python 3 (ipykernel)",
   "language": "python",
   "name": "python3"
  },
  "language_info": {
   "codemirror_mode": {
    "name": "ipython",
    "version": 3
   },
   "file_extension": ".py",
   "mimetype": "text/x-python",
   "name": "python",
   "nbconvert_exporter": "python",
   "pygments_lexer": "ipython3",
   "version": "3.10.9"
  }
 },
 "nbformat": 4,
 "nbformat_minor": 5
}
